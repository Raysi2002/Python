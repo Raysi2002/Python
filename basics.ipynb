{
 "cells": [
  {
   "cell_type": "markdown",
   "id": "69c3ffc4-29b1-4264-b198-6282de3fee84",
   "metadata": {},
   "source": [
    "# 1. What is Python?\n",
    "\t•\tPython is a high-level, interpreted, and easy-to-read programming language.\n",
    "\t•\tCreated by Guido van Rossum, it’s known for its simplicity and readability.\n",
    "\t•\tWidely used in web development, automation, data science, AI, and more."
   ]
  },
  {
   "cell_type": "code",
   "execution_count": 2,
   "id": "65efc11b-f3ae-4bbe-93c4-ec06c7fcf0c1",
   "metadata": {},
   "outputs": [
    {
     "name": "stdout",
     "output_type": "stream",
     "text": [
      "<class 'int'>\n",
      "<class 'float'>\n",
      "<class 'str'>\n",
      "<class 'bool'>\n"
     ]
    }
   ],
   "source": [
    "# Vairable\n",
    "a = 10 #Integer\n",
    "b = 10.5 #Float\n",
    "c = \"Ray\" #String\n",
    "d = True #Boolean\n",
    "print(type(a))\n",
    "print(type(b))\n",
    "print(type(c))\n",
    "print(type(d))"
   ]
  },
  {
   "cell_type": "code",
   "execution_count": null,
   "id": "f1e5761c-7e9b-4642-bfc5-f528b850a433",
   "metadata": {},
   "outputs": [],
   "source": []
  }
 ],
 "metadata": {
  "kernelspec": {
   "display_name": "Python 3 (ipykernel)",
   "language": "python",
   "name": "python3"
  },
  "language_info": {
   "codemirror_mode": {
    "name": "ipython",
    "version": 3
   },
   "file_extension": ".py",
   "mimetype": "text/x-python",
   "name": "python",
   "nbconvert_exporter": "python",
   "pygments_lexer": "ipython3",
   "version": "3.13.5"
  }
 },
 "nbformat": 4,
 "nbformat_minor": 5
}
