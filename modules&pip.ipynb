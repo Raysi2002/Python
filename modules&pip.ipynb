{
 "cells": [
  {
   "cell_type": "markdown",
   "id": "5787ec40-30c4-4a51-b803-34e8bb3a40be",
   "metadata": {},
   "source": [
    "# Modules\n",
    "Modules are simply the code written by someone else that we can use by importing it into our code\n",
    "- import pandas\n",
    "- import pytorch etc\n",
    "\n",
    "# pip (Package Manager for Python)\n",
    "pip is used to install the modules in the python\n",
    "e.g \n",
    "- pip install pytorch\n",
    "- pip install pyjokes etc"
   ]
  },
  {
   "cell_type": "code",
   "execution_count": 1,
   "id": "56a263fc-0342-460e-bbf3-da21df0bfdcd",
   "metadata": {},
   "outputs": [
    {
     "name": "stdout",
     "output_type": "stream",
     "text": [
      "Collecting pyjokes\n",
      "  Downloading pyjokes-0.8.3-py3-none-any.whl.metadata (3.4 kB)\n",
      "Downloading pyjokes-0.8.3-py3-none-any.whl (47 kB)\n",
      "Installing collected packages: pyjokes\n",
      "Successfully installed pyjokes-0.8.3\n",
      "Note: you may need to restart the kernel to use updated packages.\n"
     ]
    }
   ],
   "source": [
    "pip install pyjokes"
   ]
  },
  {
   "cell_type": "code",
   "execution_count": 3,
   "id": "a2a5bb64-9a0e-4b00-a6df-013ca2500a30",
   "metadata": {},
   "outputs": [
    {
     "name": "stdout",
     "output_type": "stream",
     "text": [
      "I had a problem so I thought I'd use Java. Now I have a ProblemFactory.\n"
     ]
    }
   ],
   "source": [
    "import pyjokes as p\n",
    "joke = p.get_joke()\n",
    "print(joke)"
   ]
  },
  {
   "cell_type": "code",
   "execution_count": 4,
   "id": "3c5cd59f-2988-46bd-913e-b1f623683140",
   "metadata": {},
   "outputs": [
    {
     "name": "stdout",
     "output_type": "stream",
     "text": [
      "Are you a RESTful API? because you GET my attention, PUT some love, POST the cutest smile, and DELETE my bad day.\n"
     ]
    }
   ],
   "source": [
    "j2 = p.get_joke()\n",
    "print(j2)"
   ]
  },
  {
   "cell_type": "code",
   "execution_count": null,
   "id": "8d7cf4fd-3006-413f-a45c-a7373ff192d2",
   "metadata": {},
   "outputs": [],
   "source": []
  }
 ],
 "metadata": {
  "kernelspec": {
   "display_name": "Python 3 (ipykernel)",
   "language": "python",
   "name": "python3"
  },
  "language_info": {
   "codemirror_mode": {
    "name": "ipython",
    "version": 3
   },
   "file_extension": ".py",
   "mimetype": "text/x-python",
   "name": "python",
   "nbconvert_exporter": "python",
   "pygments_lexer": "ipython3",
   "version": "3.13.5"
  }
 },
 "nbformat": 4,
 "nbformat_minor": 5
}
