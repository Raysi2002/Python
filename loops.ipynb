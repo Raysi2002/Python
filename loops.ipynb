{
 "cells": [
  {
   "cell_type": "markdown",
   "id": "93f8e23b-06c9-48da-b007-5b238628882d",
   "metadata": {},
   "source": [
    "# Loops in Python\n",
    "- There are only 2 loops in python\n",
    " 1. for loop\n",
    "  2. while loop"
   ]
  },
  {
   "cell_type": "markdown",
   "id": "e45da251-3f5f-4dbf-bec8-6f5130455872",
   "metadata": {},
   "source": [
    "# For Loop"
   ]
  },
  {
   "cell_type": "code",
   "execution_count": 9,
   "id": "eb156d98-5cef-40ab-aa67-4d4b69e23158",
   "metadata": {},
   "outputs": [
    {
     "name": "stdout",
     "output_type": "stream",
     "text": [
      "0|1|2|3|4|5|6|7|8|9|10|11|12|13|14|15|16|17|18|19|20|21|22|23|24|25|26|27|28|29|30|31|32|33|34|35|36|37|38|39|40|41|42|43|44|45|46|47|48|49|50|51|52|53|54|55|56|57|58|59|60|61|62|63|64|65|66|67|68|69|70|71|72|73|74|75|76|77|78|79|80|81|82|83|84|85|86|87|88|89|90|91|92|93|94|95|96|97|98|99|"
     ]
    }
   ],
   "source": [
    "for i in range (0, 100):\n",
    "    print(i,  end = '|')"
   ]
  },
  {
   "cell_type": "code",
   "execution_count": 14,
   "id": "d9e3a9cd-ee89-423f-8cd7-0ed39e3adbf5",
   "metadata": {},
   "outputs": [
    {
     "name": "stdout",
     "output_type": "stream",
     "text": [
      "apple | avacado | orange | jackfruit | kiwi | cucumber | "
     ]
    }
   ],
   "source": [
    "fruits = ['apple', 'avacado', 'orange', 'jackfruit', 'kiwi', 'cucumber']\n",
    "for fruit in (fruits):\n",
    "    print(fruit, end = ' | ')"
   ]
  },
  {
   "cell_type": "code",
   "execution_count": 15,
   "id": "72c08b9e-0999-4277-80b9-ed7d4c89870d",
   "metadata": {},
   "outputs": [
    {
     "name": "stdout",
     "output_type": "stream",
     "text": [
      "0, 1, 2, 3, 4, 5, 6, 7, 8, 9, "
     ]
    }
   ],
   "source": [
    "for num in range (10):\n",
    "    print(num, end = ', ')\n",
    "    "
   ]
  },
  {
   "cell_type": "code",
   "execution_count": 18,
   "id": "fa9b6795-3498-4d0d-aad7-34fe6e20f887",
   "metadata": {},
   "outputs": [
    {
     "name": "stdout",
     "output_type": "stream",
     "text": [
      "red -> apple\n",
      "red -> banana\n",
      "red -> cherry\n",
      "big -> apple\n",
      "big -> banana\n",
      "big -> cherry\n",
      "tasty -> apple\n",
      "tasty -> banana\n",
      "tasty -> cherry\n"
     ]
    }
   ],
   "source": [
    "adj = [\"red\", \"big\", \"tasty\"]\n",
    "fruits = [\"apple\", \"banana\", \"cherry\"]\n",
    "for out in adj:\n",
    "    for inner in fruits:\n",
    "        print(out, \"->\", inner)"
   ]
  },
  {
   "cell_type": "code",
   "execution_count": 22,
   "id": "7c229485-f069-4111-8d4b-4b8cd621467d",
   "metadata": {},
   "outputs": [
    {
     "name": "stdout",
     "output_type": "stream",
     "text": [
      "0, 50, "
     ]
    }
   ],
   "source": [
    "for num in range (0, 100, 50):\n",
    "    print(num, end = ', ')\n",
    "    "
   ]
  },
  {
   "cell_type": "markdown",
   "id": "6d24d498-24b2-4008-87a1-57f2197e5662",
   "metadata": {},
   "source": [
    "# Star Patterns in Python"
   ]
  },
  {
   "cell_type": "raw",
   "id": "44cb5656-c0ec-42aa-b1c3-7529fa783e19",
   "metadata": {},
   "source": [
    "\n",
    "🔹 Easy Patterns\n",
    "\n",
    "1. Solid Rectangle\n",
    "\n",
    "*****\n",
    "*****\n",
    "*****\n",
    "\n",
    "2. Hollow Rectangle\n",
    "\n",
    "*****\n",
    "*   *\n",
    "*****\n",
    "\n",
    "3. Left-Aligned Triangle\n",
    "\n",
    "*\n",
    "**\n",
    "***\n",
    "****\n",
    "\n",
    "4. Right-Aligned Triangle\n",
    "\n",
    "   *\n",
    "  **\n",
    " ***\n",
    "****\n",
    "\n",
    "5. Inverted Triangle\n",
    "\n",
    "****\n",
    "***\n",
    "**\n",
    "*\n",
    "\n",
    "\n",
    "⸻\n",
    "\n",
    "🔹 Medium Patterns\n",
    "\n",
    "6. Number Pyramid\n",
    "\n",
    "1\n",
    "12\n",
    "123\n",
    "1234\n",
    "\n",
    "7. Inverted Number Triangle\n",
    "\n",
    "1234\n",
    "123\n",
    "12\n",
    "1\n",
    "\n",
    "8. Pyramid of Stars\n",
    "\n",
    "   *\n",
    "  ***\n",
    " *****\n",
    "*******\n",
    "\n",
    "9. Inverted Pyramid\n",
    "\n",
    "*******\n",
    " *****\n",
    "  ***\n",
    "   *\n",
    "\n",
    "10. Diamond Pattern\n",
    "\n",
    "   *\n",
    "  ***\n",
    " *****\n",
    "*******\n",
    " *****\n",
    "  ***\n",
    "   *\n",
    "\n",
    "11. Hollow Pyramid\n",
    "\n",
    "   *\n",
    "  * *\n",
    " *   *\n",
    "*******\n",
    "\n",
    "12. Floyd’s Triangle\n",
    "\n",
    "1\n",
    "2 3\n",
    "4 5 6\n",
    "7 8 9 10\n",
    "\n",
    "13. 0-1 Triangle\n",
    "\n",
    "1\n",
    "0 1\n",
    "1 0 1\n",
    "0 1 0 1\n",
    "\n",
    "\n",
    "⸻\n",
    "\n",
    "🔹 Hard Patterns\n",
    "\n",
    "14. Pascal’s Triangle\n",
    "\n",
    "      1\n",
    "     1 1\n",
    "    1 2 1\n",
    "   1 3 3 1\n",
    "  1 4 6 4 1\n",
    "\n",
    "15. Butterfly Pattern\n",
    "\n",
    "*      *\n",
    "**    **\n",
    "***  ***\n",
    "********\n",
    "********\n",
    "***  ***\n",
    "**    **\n",
    "*      *\n",
    "\n",
    "16. Palindromic Number Pyramid\n",
    "\n",
    "    1\n",
    "   121\n",
    "  12321\n",
    " 1234321\n",
    "123454321\n",
    "\n",
    "17. Zig-Zag Pattern\n",
    "\n",
    "  *   *\n",
    " * * * *\n",
    "*   *   *\n",
    "\n",
    "\n",
    "⸻\n",
    "\n",
    "🔹 Custom Challenges\n",
    "\n",
    "18. Hourglass Pattern\n",
    "\n",
    "*********\n",
    " *******\n",
    "  *****\n",
    "   ***\n",
    "    *\n",
    "   ***\n",
    "  *****\n",
    " *******\n",
    "*********\n",
    "\n",
    "19. Hollow Diamond\n",
    "\n",
    "   *\n",
    "  * *\n",
    " *   *\n",
    "*     *\n",
    " *   *\n",
    "  * *\n",
    "   *\n",
    "\n",
    "20. Fancy Number Pyramid\n",
    "\n",
    "1\n",
    "2*2\n",
    "3*3*3\n",
    "4*4*4*4\n",
    "\n"
   ]
  },
  {
   "cell_type": "code",
   "execution_count": 28,
   "id": "e2b2bd0e-9362-4151-8b4a-92024f8a58d7",
   "metadata": {},
   "outputs": [
    {
     "name": "stdin",
     "output_type": "stream",
     "text": [
      "Enter the range:  5\n"
     ]
    },
    {
     "name": "stdout",
     "output_type": "stream",
     "text": [
      "*****\n",
      "*****\n",
      "*****\n",
      "*****\n",
      "*****\n"
     ]
    }
   ],
   "source": [
    "# Solid Patterns\n",
    "num = int(input(\"Enter the range: \"))\n",
    "for i in range (num):\n",
    "    for j in range(num):\n",
    "          print(\"*\", end = '')\n",
    "    print(end = '\\n')\n",
    "            "
   ]
  },
  {
   "cell_type": "code",
   "execution_count": 2,
   "id": "db7d23fd-15ae-42a0-b137-c7a4f5b206b1",
   "metadata": {},
   "outputs": [
    {
     "name": "stdin",
     "output_type": "stream",
     "text": [
      "Enter the range:  5\n"
     ]
    },
    {
     "name": "stdout",
     "output_type": "stream",
     "text": [
      "*****\n",
      "*   *\n",
      "*   *\n",
      "*   *\n",
      "*****\n"
     ]
    }
   ],
   "source": [
    "# 2. Hollow Rectangle\n",
    "\n",
    "# *****\n",
    "# *   *\n",
    "# *****\n",
    "\n",
    "num = int(input(\"Enter the range: \"))\n",
    "for i in range(num):\n",
    "    for j in range(num):\n",
    "        if i == 0 or j == 0 or i == num - 1 or j == num - 1:\n",
    "            print('*', end = '')\n",
    "        else:\n",
    "            print(' ', end = '')\n",
    "    print(end = '\\n')"
   ]
  },
  {
   "cell_type": "code",
   "execution_count": 5,
   "id": "6d04d410-9e29-4351-9f4d-040d8ac2fee4",
   "metadata": {},
   "outputs": [
    {
     "name": "stdin",
     "output_type": "stream",
     "text": [
      "Enter size:  5\n"
     ]
    },
    {
     "name": "stdout",
     "output_type": "stream",
     "text": [
      "*\n",
      "**\n",
      "***\n",
      "****\n",
      "*****\n",
      "******\n"
     ]
    },
    {
     "name": "stdin",
     "output_type": "stream",
     "text": [
      "Enter size:  5\n"
     ]
    },
    {
     "name": "stdout",
     "output_type": "stream",
     "text": [
      "*****\n",
      "****\n",
      "***\n",
      "**\n",
      "*\n"
     ]
    }
   ],
   "source": [
    "\"\"\" \n",
    "3. Left-Aligned Triangle\n",
    "\n",
    "*\n",
    "**\n",
    "***\n",
    "****\n",
    "\n",
    "4. Right-Aligned Triangle\n",
    "\n",
    "   *\n",
    "  **\n",
    " ***\n",
    "**** \n",
    "\"\"\"\n",
    "\n",
    "# Left-Aligned Triangle\n",
    "size = int(input(\"Enter size: \"))\n",
    "for i in range (size + 1):\n",
    "    for j in range (i + 1):\n",
    "        print('*', end = '')\n",
    "    print(end = '\\n')\n",
    "\n",
    "# Right - Aligned Triangle\n",
    "size = int(input(\"Enter size: \"))\n",
    "for i in range (size):\n",
    "    for j in range (size - i):\n",
    "        print('*', end = '')\n",
    "    print(end = '\\n')"
   ]
  },
  {
   "cell_type": "code",
   "execution_count": 8,
   "id": "2e5ace9b-3b95-4e36-9072-53a4054d9078",
   "metadata": {},
   "outputs": [
    {
     "ename": "SyntaxError",
     "evalue": "invalid syntax (1639211862.py, line 1)",
     "output_type": "error",
     "traceback": [
      "  \u001b[36mCell\u001b[39m\u001b[36m \u001b[39m\u001b[32mIn[8]\u001b[39m\u001b[32m, line 1\u001b[39m\n\u001b[31m    \u001b[39m\u001b[31mjupyter contrib nbextension install --user\u001b[39m\n            ^\n\u001b[31mSyntaxError\u001b[39m\u001b[31m:\u001b[39m invalid syntax\n"
     ]
    }
   ],
   "source": [
    "jupyter contrib nbextension install --user"
   ]
  },
  {
   "cell_type": "code",
   "execution_count": 9,
   "id": "647b4e93-3a89-49eb-b73a-ab19c02c57aa",
   "metadata": {},
   "outputs": [
    {
     "name": "stdout",
     "output_type": "stream",
     "text": [
      "usage: jupyter [-h] [--version] [--config-dir] [--data-dir] [--runtime-dir]\n",
      "               [--paths] [--json] [--debug]\n",
      "               [subcommand]\n",
      "\n",
      "Jupyter: Interactive Computing\n",
      "\n",
      "positional arguments:\n",
      "  subcommand     the subcommand to launch\n",
      "\n",
      "options:\n",
      "  -h, --help     show this help message and exit\n",
      "  --version      show the versions of core jupyter packages and exit\n",
      "  --config-dir   show Jupyter config dir\n",
      "  --data-dir     show Jupyter data dir\n",
      "  --runtime-dir  show Jupyter runtime dir\n",
      "  --paths        show all Jupyter paths. Add --json for machine-readable\n",
      "                 format.\n",
      "  --json         output paths as machine-readable json\n",
      "  --debug        output debug information about paths\n",
      "\n",
      "Available subcommands: console contrib dejavu events execute kernel kernelspec\n",
      "lab labextension labhub migrate nbconvert nbextensions_configurator notebook\n",
      "run server troubleshoot trust\n",
      "\n",
      "Jupyter command `jupyter-nbextension` not found.\n"
     ]
    }
   ],
   "source": [
    "!jupyter nbextension enable hinterland/hinterland"
   ]
  },
  {
   "cell_type": "code",
   "execution_count": 10,
   "id": "256eb946-d0c0-43ec-ae22-791fba0e6354",
   "metadata": {},
   "outputs": [
    {
     "name": "stdout",
     "output_type": "stream",
     "text": [
      "/Library/Frameworks/Python.framework/Versions/3.13/lib/python3.13/site-packages/jupyter_contrib_core/application.py:12: UserWarning: pkg_resources is deprecated as an API. See https://setuptools.pypa.io/en/latest/pkg_resources.html. The pkg_resources package is slated for removal as early as 2025-11-30. Refrain from using this package or pin to Setuptools<81.\n",
      "  import pkg_resources\n",
      "Traceback (most recent call last):\n",
      "  File \u001b[35m\"/Library/Frameworks/Python.framework/Versions/3.13/lib/python3.13/site-packages/jupyter_contrib_core/notebook_compat/nbextensions.py\"\u001b[0m, line \u001b[35m6\u001b[0m, in \u001b[35m<module>\u001b[0m\n",
      "    from notebook.extensions import BaseExtensionApp\n",
      "\u001b[1;35mModuleNotFoundError\u001b[0m: \u001b[35mNo module named 'notebook.extensions'\u001b[0m\n",
      "\n",
      "During handling of the above exception, another exception occurred:\n",
      "\n",
      "Traceback (most recent call last):\n",
      "  File \u001b[35m\"/Library/Frameworks/Python.framework/Versions/3.13/lib/python3.13/site-packages/jupyter_contrib_core/notebook_compat/nbextensions.py\"\u001b[0m, line \u001b[35m10\u001b[0m, in \u001b[35m<module>\u001b[0m\n",
      "    from notebook.nbextensions import BaseNBExtensionApp\n",
      "\u001b[1;35mModuleNotFoundError\u001b[0m: \u001b[35mNo module named 'notebook.nbextensions'\u001b[0m\n",
      "\n",
      "During handling of the above exception, another exception occurred:\n",
      "\n",
      "Traceback (most recent call last):\n",
      "  File \u001b[35m\"/Library/Frameworks/Python.framework/Versions/3.13/bin/jupyter-contrib\"\u001b[0m, line \u001b[35m8\u001b[0m, in \u001b[35m<module>\u001b[0m\n",
      "    sys.exit(\u001b[31mmain\u001b[0m\u001b[1;31m()\u001b[0m)\n",
      "             \u001b[31m~~~~\u001b[0m\u001b[1;31m^^\u001b[0m\n",
      "  File \u001b[35m\"/Library/Frameworks/Python.framework/Versions/3.13/lib/python3.13/site-packages/jupyter_core/application.py\"\u001b[0m, line \u001b[35m284\u001b[0m, in \u001b[35mlaunch_instance\u001b[0m\n",
      "    \u001b[31msuper().launch_instance\u001b[0m\u001b[1;31m(argv=argv, **kwargs)\u001b[0m\n",
      "    \u001b[31m~~~~~~~~~~~~~~~~~~~~~~~\u001b[0m\u001b[1;31m^^^^^^^^^^^^^^^^^^^^^\u001b[0m\n",
      "  File \u001b[35m\"/Library/Frameworks/Python.framework/Versions/3.13/lib/python3.13/site-packages/traitlets/config/application.py\"\u001b[0m, line \u001b[35m1073\u001b[0m, in \u001b[35mlaunch_instance\u001b[0m\n",
      "    app = cls.instance(**kwargs)\n",
      "  File \u001b[35m\"/Library/Frameworks/Python.framework/Versions/3.13/lib/python3.13/site-packages/traitlets/config/configurable.py\"\u001b[0m, line \u001b[35m583\u001b[0m, in \u001b[35minstance\u001b[0m\n",
      "    inst = cls(*args, **kwargs)\n",
      "  File \u001b[35m\"/Library/Frameworks/Python.framework/Versions/3.13/lib/python3.13/site-packages/jupyter_contrib_core/application.py\"\u001b[0m, line \u001b[35m27\u001b[0m, in \u001b[35m__init__\u001b[0m\n",
      "    \u001b[31mself._refresh_subcommands\u001b[0m\u001b[1;31m()\u001b[0m\n",
      "    \u001b[31m~~~~~~~~~~~~~~~~~~~~~~~~~\u001b[0m\u001b[1;31m^^\u001b[0m\n",
      "  File \u001b[35m\"/Library/Frameworks/Python.framework/Versions/3.13/lib/python3.13/site-packages/jupyter_contrib_core/application.py\"\u001b[0m, line \u001b[35m43\u001b[0m, in \u001b[35m_refresh_subcommands\u001b[0m\n",
      "    get_subcommands_dict = entrypoint.load()\n",
      "  File \u001b[35m\"/Library/Frameworks/Python.framework/Versions/3.13/lib/python3.13/site-packages/pkg_resources/__init__.py\"\u001b[0m, line \u001b[35m2777\u001b[0m, in \u001b[35mload\u001b[0m\n",
      "    return \u001b[31mself.resolve\u001b[0m\u001b[1;31m()\u001b[0m\n",
      "           \u001b[31m~~~~~~~~~~~~\u001b[0m\u001b[1;31m^^\u001b[0m\n",
      "  File \u001b[35m\"/Library/Frameworks/Python.framework/Versions/3.13/lib/python3.13/site-packages/pkg_resources/__init__.py\"\u001b[0m, line \u001b[35m2783\u001b[0m, in \u001b[35mresolve\u001b[0m\n",
      "    module = __import__(self.module_name, fromlist=['__name__'], level=0)\n",
      "  File \u001b[35m\"/Library/Frameworks/Python.framework/Versions/3.13/lib/python3.13/site-packages/jupyter_contrib_nbextensions/application.py\"\u001b[0m, line \u001b[35m7\u001b[0m, in \u001b[35m<module>\u001b[0m\n",
      "    from jupyter_contrib_core.notebook_compat.nbextensions import ArgumentConflict\n",
      "  File \u001b[35m\"/Library/Frameworks/Python.framework/Versions/3.13/lib/python3.13/site-packages/jupyter_contrib_core/notebook_compat/nbextensions.py\"\u001b[0m, line \u001b[35m12\u001b[0m, in \u001b[35m<module>\u001b[0m\n",
      "    from ._compat.nbextensions import BaseNBExtensionApp\n",
      "  File \u001b[35m\"/Library/Frameworks/Python.framework/Versions/3.13/lib/python3.13/site-packages/jupyter_contrib_core/notebook_compat/_compat/nbextensions.py\"\u001b[0m, line \u001b[35m35\u001b[0m, in \u001b[35m<module>\u001b[0m\n",
      "    from notebook.nbextensions import (\n",
      "        ArgumentConflict, __version__, _safe_is_tarfile,\n",
      "    )\n",
      "\u001b[1;35mModuleNotFoundError\u001b[0m: \u001b[35mNo module named 'notebook.nbextensions'\u001b[0m\n"
     ]
    }
   ],
   "source": [
    "!jupyter contrib nbextension install --user"
   ]
  },
  {
   "cell_type": "code",
   "execution_count": null,
   "id": "d5cd1cd9-e48e-48d0-a600-ea112b4ea3bd",
   "metadata": {},
   "outputs": [],
   "source": []
  }
 ],
 "metadata": {
  "kernelspec": {
   "display_name": "Python 3 (ipykernel)",
   "language": "python",
   "name": "python3"
  },
  "language_info": {
   "codemirror_mode": {
    "name": "ipython",
    "version": 3
   },
   "file_extension": ".py",
   "mimetype": "text/x-python",
   "name": "python",
   "nbconvert_exporter": "python",
   "pygments_lexer": "ipython3",
   "version": "3.13.5"
  }
 },
 "nbformat": 4,
 "nbformat_minor": 5
}
