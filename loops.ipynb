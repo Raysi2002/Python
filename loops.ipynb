{
 "cells": [
  {
   "cell_type": "markdown",
   "id": "93f8e23b-06c9-48da-b007-5b238628882d",
   "metadata": {},
   "source": [
    "# Loops in Python\n",
    "- There are only 2 loops in python\n",
    " 1. for loop\n",
    "  2. while loop"
   ]
  },
  {
   "cell_type": "markdown",
   "id": "e45da251-3f5f-4dbf-bec8-6f5130455872",
   "metadata": {},
   "source": [
    "# For Loop"
   ]
  },
  {
   "cell_type": "code",
   "execution_count": 9,
   "id": "eb156d98-5cef-40ab-aa67-4d4b69e23158",
   "metadata": {},
   "outputs": [
    {
     "name": "stdout",
     "output_type": "stream",
     "text": [
      "0|1|2|3|4|5|6|7|8|9|10|11|12|13|14|15|16|17|18|19|20|21|22|23|24|25|26|27|28|29|30|31|32|33|34|35|36|37|38|39|40|41|42|43|44|45|46|47|48|49|50|51|52|53|54|55|56|57|58|59|60|61|62|63|64|65|66|67|68|69|70|71|72|73|74|75|76|77|78|79|80|81|82|83|84|85|86|87|88|89|90|91|92|93|94|95|96|97|98|99|"
     ]
    }
   ],
   "source": [
    "for i in range (0, 100):\n",
    "    print(i,  end = '|')"
   ]
  },
  {
   "cell_type": "code",
   "execution_count": 14,
   "id": "d9e3a9cd-ee89-423f-8cd7-0ed39e3adbf5",
   "metadata": {},
   "outputs": [
    {
     "name": "stdout",
     "output_type": "stream",
     "text": [
      "apple | avacado | orange | jackfruit | kiwi | cucumber | "
     ]
    }
   ],
   "source": [
    "fruits = ['apple', 'avacado', 'orange', 'jackfruit', 'kiwi', 'cucumber']\n",
    "for fruit in (fruits):\n",
    "    print(fruit, end = ' | ')"
   ]
  },
  {
   "cell_type": "code",
   "execution_count": 15,
   "id": "72c08b9e-0999-4277-80b9-ed7d4c89870d",
   "metadata": {},
   "outputs": [
    {
     "name": "stdout",
     "output_type": "stream",
     "text": [
      "0, 1, 2, 3, 4, 5, 6, 7, 8, 9, "
     ]
    }
   ],
   "source": [
    "for num in range (10):\n",
    "    print(num, end = ', ')\n",
    "    "
   ]
  },
  {
   "cell_type": "code",
   "execution_count": 18,
   "id": "fa9b6795-3498-4d0d-aad7-34fe6e20f887",
   "metadata": {},
   "outputs": [
    {
     "name": "stdout",
     "output_type": "stream",
     "text": [
      "red -> apple\n",
      "red -> banana\n",
      "red -> cherry\n",
      "big -> apple\n",
      "big -> banana\n",
      "big -> cherry\n",
      "tasty -> apple\n",
      "tasty -> banana\n",
      "tasty -> cherry\n"
     ]
    }
   ],
   "source": [
    "adj = [\"red\", \"big\", \"tasty\"]\n",
    "fruits = [\"apple\", \"banana\", \"cherry\"]\n",
    "for out in adj:\n",
    "    for inner in fruits:\n",
    "        print(out, \"->\", inner)"
   ]
  },
  {
   "cell_type": "code",
   "execution_count": null,
   "id": "7c229485-f069-4111-8d4b-4b8cd621467d",
   "metadata": {},
   "outputs": [],
   "source": []
  }
 ],
 "metadata": {
  "kernelspec": {
   "display_name": "Python 3 (ipykernel)",
   "language": "python",
   "name": "python3"
  },
  "language_info": {
   "codemirror_mode": {
    "name": "ipython",
    "version": 3
   },
   "file_extension": ".py",
   "mimetype": "text/x-python",
   "name": "python",
   "nbconvert_exporter": "python",
   "pygments_lexer": "ipython3",
   "version": "3.13.5"
  }
 },
 "nbformat": 4,
 "nbformat_minor": 5
}
